{
 "cells": [
  {
   "cell_type": "code",
   "execution_count": 3,
   "metadata": {},
   "outputs": [],
   "source": [
    "#importing and cleaning data, leaving what i need\n",
    "import numpy as np\n",
    "import pandas as pd\n",
    "import matplotlib.pyplot as plt\n",
    "anime = pd.read_csv('data/anime-dataset-2023.csv')\n"
   ]
  },
  {
   "cell_type": "code",
   "execution_count": 4,
   "metadata": {},
   "outputs": [
    {
     "data": {
      "text/html": [
       "<div>\n",
       "<style scoped>\n",
       "    .dataframe tbody tr th:only-of-type {\n",
       "        vertical-align: middle;\n",
       "    }\n",
       "\n",
       "    .dataframe tbody tr th {\n",
       "        vertical-align: top;\n",
       "    }\n",
       "\n",
       "    .dataframe thead th {\n",
       "        text-align: right;\n",
       "    }\n",
       "</style>\n",
       "<table border=\"1\" class=\"dataframe\">\n",
       "  <thead>\n",
       "    <tr style=\"text-align: right;\">\n",
       "      <th></th>\n",
       "      <th>anime_id</th>\n",
       "      <th>Name</th>\n",
       "      <th>Score</th>\n",
       "      <th>Genres</th>\n",
       "      <th>Description</th>\n",
       "      <th>Type</th>\n",
       "      <th>Episodes</th>\n",
       "      <th>Rank</th>\n",
       "      <th>Popularity</th>\n",
       "      <th>Image URL</th>\n",
       "    </tr>\n",
       "  </thead>\n",
       "  <tbody>\n",
       "    <tr>\n",
       "      <th>0</th>\n",
       "      <td>1</td>\n",
       "      <td>Cowboy Bebop</td>\n",
       "      <td>8.75</td>\n",
       "      <td>Action, Award Winning, Sci-Fi</td>\n",
       "      <td>Crime is timeless. By the year 2071, humanity ...</td>\n",
       "      <td>TV</td>\n",
       "      <td>26.0</td>\n",
       "      <td>41.0</td>\n",
       "      <td>43</td>\n",
       "      <td>https://cdn.myanimelist.net/images/anime/4/196...</td>\n",
       "    </tr>\n",
       "    <tr>\n",
       "      <th>1</th>\n",
       "      <td>5</td>\n",
       "      <td>Cowboy Bebop: Tengoku no Tobira</td>\n",
       "      <td>8.38</td>\n",
       "      <td>Action, Sci-Fi</td>\n",
       "      <td>Another day, another bounty—such is the life o...</td>\n",
       "      <td>Movie</td>\n",
       "      <td>1.0</td>\n",
       "      <td>189.0</td>\n",
       "      <td>602</td>\n",
       "      <td>https://cdn.myanimelist.net/images/anime/1439/...</td>\n",
       "    </tr>\n",
       "    <tr>\n",
       "      <th>2</th>\n",
       "      <td>6</td>\n",
       "      <td>Trigun</td>\n",
       "      <td>8.22</td>\n",
       "      <td>Action, Adventure, Sci-Fi</td>\n",
       "      <td>Vash the Stampede is the man with a $$60,000,0...</td>\n",
       "      <td>TV</td>\n",
       "      <td>26.0</td>\n",
       "      <td>328.0</td>\n",
       "      <td>246</td>\n",
       "      <td>https://cdn.myanimelist.net/images/anime/7/203...</td>\n",
       "    </tr>\n",
       "    <tr>\n",
       "      <th>3</th>\n",
       "      <td>7</td>\n",
       "      <td>Witch Hunter Robin</td>\n",
       "      <td>7.25</td>\n",
       "      <td>Action, Drama, Mystery, Supernatural</td>\n",
       "      <td>Robin Sena is a powerful craft user drafted in...</td>\n",
       "      <td>TV</td>\n",
       "      <td>26.0</td>\n",
       "      <td>2764.0</td>\n",
       "      <td>1795</td>\n",
       "      <td>https://cdn.myanimelist.net/images/anime/10/19...</td>\n",
       "    </tr>\n",
       "    <tr>\n",
       "      <th>4</th>\n",
       "      <td>8</td>\n",
       "      <td>Bouken Ou Beet</td>\n",
       "      <td>6.94</td>\n",
       "      <td>Adventure, Fantasy, Supernatural</td>\n",
       "      <td>It is the dark century and the people are suff...</td>\n",
       "      <td>TV</td>\n",
       "      <td>52.0</td>\n",
       "      <td>4240.0</td>\n",
       "      <td>5126</td>\n",
       "      <td>https://cdn.myanimelist.net/images/anime/7/215...</td>\n",
       "    </tr>\n",
       "  </tbody>\n",
       "</table>\n",
       "</div>"
      ],
      "text/plain": [
       "   anime_id                             Name Score  \\\n",
       "0         1                     Cowboy Bebop  8.75   \n",
       "1         5  Cowboy Bebop: Tengoku no Tobira  8.38   \n",
       "2         6                           Trigun  8.22   \n",
       "3         7               Witch Hunter Robin  7.25   \n",
       "4         8                   Bouken Ou Beet  6.94   \n",
       "\n",
       "                                 Genres  \\\n",
       "0         Action, Award Winning, Sci-Fi   \n",
       "1                        Action, Sci-Fi   \n",
       "2             Action, Adventure, Sci-Fi   \n",
       "3  Action, Drama, Mystery, Supernatural   \n",
       "4      Adventure, Fantasy, Supernatural   \n",
       "\n",
       "                                         Description   Type Episodes    Rank  \\\n",
       "0  Crime is timeless. By the year 2071, humanity ...     TV     26.0    41.0   \n",
       "1  Another day, another bounty—such is the life o...  Movie      1.0   189.0   \n",
       "2  Vash the Stampede is the man with a $$60,000,0...     TV     26.0   328.0   \n",
       "3  Robin Sena is a powerful craft user drafted in...     TV     26.0  2764.0   \n",
       "4  It is the dark century and the people are suff...     TV     52.0  4240.0   \n",
       "\n",
       "   Popularity                                          Image URL  \n",
       "0          43  https://cdn.myanimelist.net/images/anime/4/196...  \n",
       "1         602  https://cdn.myanimelist.net/images/anime/1439/...  \n",
       "2         246  https://cdn.myanimelist.net/images/anime/7/203...  \n",
       "3        1795  https://cdn.myanimelist.net/images/anime/10/19...  \n",
       "4        5126  https://cdn.myanimelist.net/images/anime/7/215...  "
      ]
     },
     "execution_count": 4,
     "metadata": {},
     "output_type": "execute_result"
    }
   ],
   "source": [
    "def clean_data(anime):\n",
    "    #dropping columns\n",
    "    anime = anime.drop(columns=['Members', 'Scored By', 'Favorites', 'Source', 'Licensors', 'Producers', 'Premiered', 'English name','Studios', 'Duration', 'Rating', 'Status', 'Other name', 'Aired'])\n",
    "    #renaming a column\n",
    "    anime = anime.rename(columns={'Synopsis': 'Description'})\n",
    "    return anime\n",
    "\n",
    "anime_clean = clean_data(anime.copy())\n",
    "anime_clean.head()"
   ]
  },
  {
   "cell_type": "code",
   "execution_count": null,
   "metadata": {},
   "outputs": [],
   "source": [
    "#concatenating the columns together to make it easier for model to compare data\n",
    "def clean_data(anime_clean):\n",
    "    #first replacing and filling in data that has \"unknown\"\n",
    "    anime_clean['Episodes'] = anime_clean['Episodes'].str.replace(\"UNKNOWN\", \"1000+\", case=False, regex=False)\n",
    "    #changing column type to string\n",
    "    anime_clean = anime_clean.astype({'Episodes': 'string', 'Popularity': 'string', 'Score': 'string', 'Rank': 'string'})\n",
    "    anime_clean['tags'] = anime_clean['Description'] + anime_clean['Genres'] + anime_clean['Type'] + anime_clean['Episodes'] + anime_clean['Popularity'] + anime_clean['Score'] + anime_clean['Rank'] \n",
    "    anime_clean = anime_clean[['anime_id','Name','tags']]\n",
    "\n",
    "    anime_clean['tags'] = anime_clean['tags'].apply(lambda x:x.lower())\n",
    "    return anime_clean\n",
    "\n",
    "anime_clean = clean_data(anime_clean.copy())\n",
    "anime_clean.head(3)\n"
   ]
  },
  {
   "cell_type": "code",
   "execution_count": 7,
   "metadata": {},
   "outputs": [
    {
     "data": {
      "text/plain": [
       "<bound method NDFrame.describe of        anime_id                             Name  \\\n",
       "0             1                     Cowboy Bebop   \n",
       "1             5  Cowboy Bebop: Tengoku no Tobira   \n",
       "2             6                           Trigun   \n",
       "3             7               Witch Hunter Robin   \n",
       "4             8                   Bouken Ou Beet   \n",
       "...         ...                              ...   \n",
       "24900     55731                      Wu Nao Monu   \n",
       "24901     55732              Bu Xing Si: Yuan Qi   \n",
       "24902     55733                      Di Yi Xulie   \n",
       "24903     55734         Bokura no Saishuu Sensou   \n",
       "24904     55735                   Shijuuku Nichi   \n",
       "\n",
       "                                                    tags  \n",
       "0      crime is timeless. by the year 2071, humanity ...  \n",
       "1      another day, another bounty—such is the life o...  \n",
       "2      vash the stampede is the man with a $$60,000,0...  \n",
       "3      robin sena is a powerful craft user drafted in...  \n",
       "4      it is the dark century and the people are suff...  \n",
       "...                                                  ...  \n",
       "24900  no description available for this anime.comedy...  \n",
       "24901  no description available for this anime.action...  \n",
       "24902  no description available for this anime.action...  \n",
       "24903  a music video for the song bokura no saishuu s...  \n",
       "24904  a music video for the song shijuuku nichi by s...  \n",
       "\n",
       "[24905 rows x 3 columns]>"
      ]
     },
     "execution_count": 7,
     "metadata": {},
     "output_type": "execute_result"
    }
   ],
   "source": [
    "anime_clean.shape\n",
    "anime_clean.describe"
   ]
  },
  {
   "cell_type": "code",
   "execution_count": 8,
   "metadata": {},
   "outputs": [
    {
     "data": {
      "text/plain": [
       "array([[0, 0, 0, ..., 0, 0, 0],\n",
       "       [0, 0, 0, ..., 0, 0, 0],\n",
       "       [3, 0, 0, ..., 0, 0, 0],\n",
       "       ...,\n",
       "       [0, 1, 0, ..., 0, 0, 0],\n",
       "       [0, 1, 0, ..., 0, 0, 0],\n",
       "       [0, 1, 0, ..., 0, 0, 0]])"
      ]
     },
     "execution_count": 8,
     "metadata": {},
     "output_type": "execute_result"
    }
   ],
   "source": [
    "#making data into vector to use cosine similarity to help model\n",
    "from sklearn.feature_extraction.text import CountVectorizer\n",
    "cv = CountVectorizer(max_features=5000, stop_words= 'english')\n",
    "\n",
    "vector = cv.fit_transform(anime_clean['tags']).toarray()\n",
    "\n",
    "vector"
   ]
  },
  {
   "cell_type": "code",
   "execution_count": 9,
   "metadata": {},
   "outputs": [
    {
     "data": {
      "text/html": [
       "<div>\n",
       "<style scoped>\n",
       "    .dataframe tbody tr th:only-of-type {\n",
       "        vertical-align: middle;\n",
       "    }\n",
       "\n",
       "    .dataframe tbody tr th {\n",
       "        vertical-align: top;\n",
       "    }\n",
       "\n",
       "    .dataframe thead th {\n",
       "        text-align: right;\n",
       "    }\n",
       "</style>\n",
       "<table border=\"1\" class=\"dataframe\">\n",
       "  <thead>\n",
       "    <tr style=\"text-align: right;\">\n",
       "      <th></th>\n",
       "      <th>anime_id</th>\n",
       "      <th>Name</th>\n",
       "      <th>tags</th>\n",
       "    </tr>\n",
       "  </thead>\n",
       "  <tbody>\n",
       "    <tr>\n",
       "      <th>0</th>\n",
       "      <td>1</td>\n",
       "      <td>Cowboy Bebop</td>\n",
       "      <td>crime is timeless. by the year 2071, humanity ...</td>\n",
       "    </tr>\n",
       "    <tr>\n",
       "      <th>1</th>\n",
       "      <td>5</td>\n",
       "      <td>Cowboy Bebop: Tengoku no Tobira</td>\n",
       "      <td>another day, another bounty—such is the life o...</td>\n",
       "    </tr>\n",
       "    <tr>\n",
       "      <th>2</th>\n",
       "      <td>6</td>\n",
       "      <td>Trigun</td>\n",
       "      <td>vash the stampede is the man with a $$60,000,0...</td>\n",
       "    </tr>\n",
       "    <tr>\n",
       "      <th>3</th>\n",
       "      <td>7</td>\n",
       "      <td>Witch Hunter Robin</td>\n",
       "      <td>robin sena is a powerful craft user drafted in...</td>\n",
       "    </tr>\n",
       "    <tr>\n",
       "      <th>4</th>\n",
       "      <td>8</td>\n",
       "      <td>Bouken Ou Beet</td>\n",
       "      <td>it is the dark century and the people are suff...</td>\n",
       "    </tr>\n",
       "    <tr>\n",
       "      <th>5</th>\n",
       "      <td>15</td>\n",
       "      <td>Eyeshield 21</td>\n",
       "      <td>shy, reserved, and small-statured, deimon high...</td>\n",
       "    </tr>\n",
       "    <tr>\n",
       "      <th>6</th>\n",
       "      <td>16</td>\n",
       "      <td>Hachimitsu to Clover</td>\n",
       "      <td>yuuta takemoto, a sophomore at an arts college...</td>\n",
       "    </tr>\n",
       "    <tr>\n",
       "      <th>7</th>\n",
       "      <td>17</td>\n",
       "      <td>Hungry Heart: Wild Striker</td>\n",
       "      <td>as the younger brother of japanese soccer star...</td>\n",
       "    </tr>\n",
       "    <tr>\n",
       "      <th>8</th>\n",
       "      <td>18</td>\n",
       "      <td>Initial D Fourth Stage</td>\n",
       "      <td>takumi fujiwara finally joins ryousuke and kei...</td>\n",
       "    </tr>\n",
       "    <tr>\n",
       "      <th>9</th>\n",
       "      <td>19</td>\n",
       "      <td>Monster</td>\n",
       "      <td>dr. kenzou tenma, an elite neurosurgeon recent...</td>\n",
       "    </tr>\n",
       "  </tbody>\n",
       "</table>\n",
       "</div>"
      ],
      "text/plain": [
       "   anime_id                             Name  \\\n",
       "0         1                     Cowboy Bebop   \n",
       "1         5  Cowboy Bebop: Tengoku no Tobira   \n",
       "2         6                           Trigun   \n",
       "3         7               Witch Hunter Robin   \n",
       "4         8                   Bouken Ou Beet   \n",
       "5        15                     Eyeshield 21   \n",
       "6        16             Hachimitsu to Clover   \n",
       "7        17       Hungry Heart: Wild Striker   \n",
       "8        18           Initial D Fourth Stage   \n",
       "9        19                          Monster   \n",
       "\n",
       "                                                tags  \n",
       "0  crime is timeless. by the year 2071, humanity ...  \n",
       "1  another day, another bounty—such is the life o...  \n",
       "2  vash the stampede is the man with a $$60,000,0...  \n",
       "3  robin sena is a powerful craft user drafted in...  \n",
       "4  it is the dark century and the people are suff...  \n",
       "5  shy, reserved, and small-statured, deimon high...  \n",
       "6  yuuta takemoto, a sophomore at an arts college...  \n",
       "7  as the younger brother of japanese soccer star...  \n",
       "8  takumi fujiwara finally joins ryousuke and kei...  \n",
       "9  dr. kenzou tenma, an elite neurosurgeon recent...  "
      ]
     },
     "execution_count": 9,
     "metadata": {},
     "output_type": "execute_result"
    }
   ],
   "source": [
    "anime_clean.head(10)"
   ]
  },
  {
   "cell_type": "code",
   "execution_count": 11,
   "metadata": {},
   "outputs": [
    {
     "data": {
      "text/plain": [
       "array([[1.        , 0.21432946, 0.11933359, ..., 0.07955573, 0.        ,\n",
       "        0.        ],\n",
       "       [0.21432946, 1.        , 0.13470398, ..., 0.13470398, 0.        ,\n",
       "        0.        ],\n",
       "       [0.11933359, 0.13470398, 1.        , ..., 0.125     , 0.        ,\n",
       "        0.        ],\n",
       "       ...,\n",
       "       [0.07955573, 0.13470398, 0.125     , ..., 1.        , 0.15811388,\n",
       "        0.15811388],\n",
       "       [0.        , 0.        , 0.        , ..., 0.15811388, 1.        ,\n",
       "        1.        ],\n",
       "       [0.        , 0.        , 0.        , ..., 0.15811388, 1.        ,\n",
       "        1.        ]])"
      ]
     },
     "execution_count": 11,
     "metadata": {},
     "output_type": "execute_result"
    }
   ],
   "source": [
    "from sklearn.metrics.pairwise import cosine_similarity\n",
    "similarity = cosine_similarity(vector)\n",
    "similarity"
   ]
  },
  {
   "cell_type": "code",
   "execution_count": 13,
   "metadata": {},
   "outputs": [
    {
     "data": {
      "text/plain": [
       "np.int64(2)"
      ]
     },
     "execution_count": 13,
     "metadata": {},
     "output_type": "execute_result"
    }
   ],
   "source": [
    "anime_clean[anime_clean['Name'] == 'Trigun'].index[0]"
   ]
  },
  {
   "cell_type": "code",
   "execution_count": 15,
   "metadata": {},
   "outputs": [],
   "source": [
    "#making it recommend and give position of data similarity to list 5 recommendations in a sorted list\n",
    "def recommend(anime):\n",
    "    index = anime_clean[anime_clean['Name'] == anime].index[0]\n",
    "    distances = sorted(list(enumerate(similarity[index])), reverse=True , key= lambda x: x[1])\n",
    "    for i in distances[1:6]:\n",
    "        print(anime_clean.iloc[i[0]].Name)"
   ]
  },
  {
   "cell_type": "code",
   "execution_count": 17,
   "metadata": {},
   "outputs": [
    {
     "name": "stdout",
     "output_type": "stream",
     "text": [
      "Naruto (2023)\n",
      "Boruto: Naruto Next Generations\n",
      "Naruto: Shippuuden\n",
      "Naruto: Shippuuden Movie 4 - The Lost Tower\n",
      "Boruto: Naruto the Movie\n"
     ]
    }
   ],
   "source": [
    "recommend('Naruto')"
   ]
  },
  {
   "cell_type": "code",
   "execution_count": 18,
   "metadata": {},
   "outputs": [
    {
     "name": "stdout",
     "output_type": "stream",
     "text": [
      "One Piece: Episode of East Blue - Luffy to 4-nin no Nakama no Daibouken\n",
      "One Piece: Romance Dawn Story\n",
      "One Piece Film: Strong World\n",
      "One Piece Movie 14: Stampede\n",
      "One Piece: Oounabara ni Hirake! Dekkai Dekkai Chichi no Yume!\n"
     ]
    }
   ],
   "source": [
    "recommend('One Piece')"
   ]
  },
  {
   "cell_type": "markdown",
   "metadata": {},
   "source": []
  },
  {
   "cell_type": "markdown",
   "metadata": {},
   "source": []
  }
 ],
 "metadata": {
  "language_info": {
   "name": "python"
  }
 },
 "nbformat": 4,
 "nbformat_minor": 2
}

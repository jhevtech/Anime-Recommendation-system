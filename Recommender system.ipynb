{
 "cells": [
  {
   "cell_type": "code",
   "execution_count": 3,
   "metadata": {},
   "outputs": [],
   "source": [
    "#importing and cleaning data, leaving what i need\n",
    "import numpy as np\n",
    "import pandas as pd\n",
    "import matplotlib.pyplot as plt\n",
    "anime = pd.read_csv('data/anime-dataset-2023.csv')\n"
   ]
  },
  {
   "cell_type": "code",
   "execution_count": 4,
   "metadata": {},
   "outputs": [
    {
     "data": {
      "text/html": [
       "<div>\n",
       "<style scoped>\n",
       "    .dataframe tbody tr th:only-of-type {\n",
       "        vertical-align: middle;\n",
       "    }\n",
       "\n",
       "    .dataframe tbody tr th {\n",
       "        vertical-align: top;\n",
       "    }\n",
       "\n",
       "    .dataframe thead th {\n",
       "        text-align: right;\n",
       "    }\n",
       "</style>\n",
       "<table border=\"1\" class=\"dataframe\">\n",
       "  <thead>\n",
       "    <tr style=\"text-align: right;\">\n",
       "      <th></th>\n",
       "      <th>anime_id</th>\n",
       "      <th>Name</th>\n",
       "      <th>Score</th>\n",
       "      <th>Genres</th>\n",
       "      <th>Description</th>\n",
       "      <th>Type</th>\n",
       "      <th>Episodes</th>\n",
       "      <th>Rank</th>\n",
       "      <th>Popularity</th>\n",
       "      <th>Image URL</th>\n",
       "    </tr>\n",
       "  </thead>\n",
       "  <tbody>\n",
       "    <tr>\n",
       "      <th>0</th>\n",
       "      <td>1</td>\n",
       "      <td>Cowboy Bebop</td>\n",
       "      <td>8.75</td>\n",
       "      <td>Action, Award Winning, Sci-Fi</td>\n",
       "      <td>Crime is timeless. By the year 2071, humanity ...</td>\n",
       "      <td>TV</td>\n",
       "      <td>26.0</td>\n",
       "      <td>41.0</td>\n",
       "      <td>43</td>\n",
       "      <td>https://cdn.myanimelist.net/images/anime/4/196...</td>\n",
       "    </tr>\n",
       "    <tr>\n",
       "      <th>1</th>\n",
       "      <td>5</td>\n",
       "      <td>Cowboy Bebop: Tengoku no Tobira</td>\n",
       "      <td>8.38</td>\n",
       "      <td>Action, Sci-Fi</td>\n",
       "      <td>Another day, another bounty—such is the life o...</td>\n",
       "      <td>Movie</td>\n",
       "      <td>1.0</td>\n",
       "      <td>189.0</td>\n",
       "      <td>602</td>\n",
       "      <td>https://cdn.myanimelist.net/images/anime/1439/...</td>\n",
       "    </tr>\n",
       "    <tr>\n",
       "      <th>2</th>\n",
       "      <td>6</td>\n",
       "      <td>Trigun</td>\n",
       "      <td>8.22</td>\n",
       "      <td>Action, Adventure, Sci-Fi</td>\n",
       "      <td>Vash the Stampede is the man with a $$60,000,0...</td>\n",
       "      <td>TV</td>\n",
       "      <td>26.0</td>\n",
       "      <td>328.0</td>\n",
       "      <td>246</td>\n",
       "      <td>https://cdn.myanimelist.net/images/anime/7/203...</td>\n",
       "    </tr>\n",
       "    <tr>\n",
       "      <th>3</th>\n",
       "      <td>7</td>\n",
       "      <td>Witch Hunter Robin</td>\n",
       "      <td>7.25</td>\n",
       "      <td>Action, Drama, Mystery, Supernatural</td>\n",
       "      <td>Robin Sena is a powerful craft user drafted in...</td>\n",
       "      <td>TV</td>\n",
       "      <td>26.0</td>\n",
       "      <td>2764.0</td>\n",
       "      <td>1795</td>\n",
       "      <td>https://cdn.myanimelist.net/images/anime/10/19...</td>\n",
       "    </tr>\n",
       "    <tr>\n",
       "      <th>4</th>\n",
       "      <td>8</td>\n",
       "      <td>Bouken Ou Beet</td>\n",
       "      <td>6.94</td>\n",
       "      <td>Adventure, Fantasy, Supernatural</td>\n",
       "      <td>It is the dark century and the people are suff...</td>\n",
       "      <td>TV</td>\n",
       "      <td>52.0</td>\n",
       "      <td>4240.0</td>\n",
       "      <td>5126</td>\n",
       "      <td>https://cdn.myanimelist.net/images/anime/7/215...</td>\n",
       "    </tr>\n",
       "  </tbody>\n",
       "</table>\n",
       "</div>"
      ],
      "text/plain": [
       "   anime_id                             Name Score  \\\n",
       "0         1                     Cowboy Bebop  8.75   \n",
       "1         5  Cowboy Bebop: Tengoku no Tobira  8.38   \n",
       "2         6                           Trigun  8.22   \n",
       "3         7               Witch Hunter Robin  7.25   \n",
       "4         8                   Bouken Ou Beet  6.94   \n",
       "\n",
       "                                 Genres  \\\n",
       "0         Action, Award Winning, Sci-Fi   \n",
       "1                        Action, Sci-Fi   \n",
       "2             Action, Adventure, Sci-Fi   \n",
       "3  Action, Drama, Mystery, Supernatural   \n",
       "4      Adventure, Fantasy, Supernatural   \n",
       "\n",
       "                                         Description   Type Episodes    Rank  \\\n",
       "0  Crime is timeless. By the year 2071, humanity ...     TV     26.0    41.0   \n",
       "1  Another day, another bounty—such is the life o...  Movie      1.0   189.0   \n",
       "2  Vash the Stampede is the man with a $$60,000,0...     TV     26.0   328.0   \n",
       "3  Robin Sena is a powerful craft user drafted in...     TV     26.0  2764.0   \n",
       "4  It is the dark century and the people are suff...     TV     52.0  4240.0   \n",
       "\n",
       "   Popularity                                          Image URL  \n",
       "0          43  https://cdn.myanimelist.net/images/anime/4/196...  \n",
       "1         602  https://cdn.myanimelist.net/images/anime/1439/...  \n",
       "2         246  https://cdn.myanimelist.net/images/anime/7/203...  \n",
       "3        1795  https://cdn.myanimelist.net/images/anime/10/19...  \n",
       "4        5126  https://cdn.myanimelist.net/images/anime/7/215...  "
      ]
     },
     "execution_count": 4,
     "metadata": {},
     "output_type": "execute_result"
    }
   ],
   "source": [
    "def clean_data(anime):\n",
    "    #dropping columns\n",
    "    anime = anime.drop(columns=['Members', 'Scored By', 'Favorites', 'Source', 'Licensors', 'Producers', 'Premiered', 'English name','Studios', 'Duration', 'Rating', 'Status', 'Other name', 'Aired'])\n",
    "    #renaming a column\n",
    "    anime = anime.rename(columns={'Synopsis': 'Description'})\n",
    "    return anime\n",
    "\n",
    "anime_clean = clean_data(anime.copy())\n",
    "anime_clean.head()"
   ]
  },
  {
   "cell_type": "code",
   "execution_count": 5,
   "metadata": {},
   "outputs": [
    {
     "data": {
      "text/html": [
       "<div>\n",
       "<style scoped>\n",
       "    .dataframe tbody tr th:only-of-type {\n",
       "        vertical-align: middle;\n",
       "    }\n",
       "\n",
       "    .dataframe tbody tr th {\n",
       "        vertical-align: top;\n",
       "    }\n",
       "\n",
       "    .dataframe thead th {\n",
       "        text-align: right;\n",
       "    }\n",
       "</style>\n",
       "<table border=\"1\" class=\"dataframe\">\n",
       "  <thead>\n",
       "    <tr style=\"text-align: right;\">\n",
       "      <th></th>\n",
       "      <th>anime_id</th>\n",
       "      <th>Name</th>\n",
       "      <th>tags</th>\n",
       "    </tr>\n",
       "  </thead>\n",
       "  <tbody>\n",
       "    <tr>\n",
       "      <th>0</th>\n",
       "      <td>1</td>\n",
       "      <td>Cowboy Bebop</td>\n",
       "      <td>crime is timeless. by the year 2071, humanity ...</td>\n",
       "    </tr>\n",
       "    <tr>\n",
       "      <th>1</th>\n",
       "      <td>5</td>\n",
       "      <td>Cowboy Bebop: Tengoku no Tobira</td>\n",
       "      <td>another day, another bounty—such is the life o...</td>\n",
       "    </tr>\n",
       "    <tr>\n",
       "      <th>2</th>\n",
       "      <td>6</td>\n",
       "      <td>Trigun</td>\n",
       "      <td>vash the stampede is the man with a $$60,000,0...</td>\n",
       "    </tr>\n",
       "  </tbody>\n",
       "</table>\n",
       "</div>"
      ],
      "text/plain": [
       "   anime_id                             Name  \\\n",
       "0         1                     Cowboy Bebop   \n",
       "1         5  Cowboy Bebop: Tengoku no Tobira   \n",
       "2         6                           Trigun   \n",
       "\n",
       "                                                tags  \n",
       "0  crime is timeless. by the year 2071, humanity ...  \n",
       "1  another day, another bounty—such is the life o...  \n",
       "2  vash the stampede is the man with a $$60,000,0...  "
      ]
     },
     "execution_count": 5,
     "metadata": {},
     "output_type": "execute_result"
    }
   ],
   "source": [
    "#concatenating the columns together to make it easier for model to compare data\n",
    "def clean_data(anime_clean):\n",
    "    #first replacing and filling in data that has \"unknown\"\n",
    "    anime_clean['Episodes'] = anime_clean['Episodes'].str.replace(\"UNKNOWN\", \"1000+\", case=False, regex=False)\n",
    "    #changing column type to string\n",
    "    anime_clean = anime_clean.astype({'Episodes': 'string', 'Popularity': 'string', 'Score': 'string', 'Rank': 'string'})\n",
    "    anime_clean['tags'] = anime_clean['Description'] + anime_clean['Genres'] + anime_clean['Type'] + anime_clean['Episodes'] + anime_clean['Popularity'] + anime_clean['Score'] + anime_clean['Rank'] \n",
    "    anime_clean = anime_clean[['anime_id','Name','tags']]\n",
    "\n",
    "    anime_clean['tags'] = anime_clean['tags'].apply(lambda x:x.lower())\n",
    "    return anime_clean\n",
    "\n",
    "anime_clean = clean_data(anime_clean.copy())\n",
    "anime_clean.head(3)\n"
   ]
  },
  {
   "cell_type": "code",
   "execution_count": 61,
   "metadata": {},
   "outputs": [
    {
     "data": {
      "text/plain": [
       "array([[0, 0, 0, ..., 0, 0, 0],\n",
       "       [0, 0, 0, ..., 0, 0, 0],\n",
       "       [3, 0, 0, ..., 0, 0, 0],\n",
       "       ...,\n",
       "       [0, 1, 0, ..., 0, 0, 0],\n",
       "       [0, 1, 0, ..., 0, 0, 0],\n",
       "       [0, 1, 0, ..., 0, 0, 0]])"
      ]
     },
     "execution_count": 61,
     "metadata": {},
     "output_type": "execute_result"
    }
   ],
   "source": [
    "#making data into vector to use cosine similarity to help model\n",
    "from sklearn.feature_extraction.text import CountVectorizer\n",
    "\n",
    "cv = CountVectorizer(max_features=5000, stop_words= 'english')\n",
    "\n",
    "vector = cv.fit_transform(anime_clean['tags']).toarray()\n",
    "\n",
    "vector"
   ]
  },
  {
   "cell_type": "code",
   "execution_count": 95,
   "metadata": {},
   "outputs": [
    {
     "data": {
      "text/plain": [
       "(24905, 24905)"
      ]
     },
     "execution_count": 95,
     "metadata": {},
     "output_type": "execute_result"
    }
   ],
   "source": [
    "from sklearn.metrics.pairwise import cosine_similarity\n",
    "similarity = cosine_similarity(vector)\n",
    "similarity\n",
    "similarity.shape"
   ]
  },
  {
   "cell_type": "code",
   "execution_count": 39,
   "metadata": {},
   "outputs": [
    {
     "data": {
      "text/plain": [
       "np.int64(2)"
      ]
     },
     "execution_count": 39,
     "metadata": {},
     "output_type": "execute_result"
    }
   ],
   "source": [
    "anime_clean[anime_clean['Name'] == 'Trigun'].index[0]"
   ]
  },
  {
   "cell_type": "code",
   "execution_count": 87,
   "metadata": {},
   "outputs": [],
   "source": [
    "\n",
    "#making it recommend and give position of data similarity to list 5 recommendations in a sorted list\n",
    "def recommend(anime):\n",
    "    index = anime_clean[anime_clean['Name'] == anime].index[0]\n",
    "    distances = sorted(list(enumerate(similarity[index])), reverse=True , key= lambda x: x[1])\n",
    "    for i in distances[1:30]:\n",
    "        print(anime_clean.iloc[i[0]].Name)"
   ]
  },
  {
   "cell_type": "code",
   "execution_count": 88,
   "metadata": {},
   "outputs": [
    {
     "name": "stdout",
     "output_type": "stream",
     "text": [
      "Naruto (2023)\n",
      "Boruto: Naruto Next Generations\n",
      "Naruto: Shippuuden\n",
      "Naruto: Shippuuden Movie 4 - The Lost Tower\n",
      "Boruto: Naruto the Movie\n",
      "Naruto: Honoo no Chuunin Shiken! Naruto vs. Konohamaru!!\n",
      "Naruto: Shippuuden - Shippuu! \"Konoha Gakuen\" Den\n",
      "Naruto: Shippuuden Movie 5 - Blood Prison\n",
      "Naruto: Shippuuden Movie 2 - Kizuna\n",
      "Naruto (Shinsaku Anime)\n",
      "Juliet\n",
      "Mayoiga\n",
      "Naruto: Shippuuden Movie 6 - Road to Ninja\n",
      "Naruto: Takigakure no Shitou - Ore ga Eiyuu Dattebayo!\n",
      "Road of Naruto\n",
      "Kimetsu no Yaiba: Katanakaji no Sato-hen\n",
      "The Last: Naruto the Movie\n",
      "Boruto: Naruto the Movie - Naruto ga Hokage ni Natta Hi\n",
      "Toriko 3D: Kaimaku Gourmet Adventure!!\n",
      "Shi Cao Lao Long Bei Guan Yi E Long Zhi Ming\n",
      "Naruto: Shippuuden Movie 1\n",
      "Yamato Takeru: After War\n",
      "Kogane no Hana\n",
      "Kamisama no Inai Nichiyoubi\n",
      "Kishin Douji Zenki Gaiden: Anki Kitan\n",
      "Mononoke Hime\n",
      "Naruto Soyokazeden Movie: Naruto to Mashin to Mitsu no Onegai Dattebayo!!\n",
      "Higurashi no Naku Koro ni\n",
      "Heisei Inu Monogatari Bow Movie\n"
     ]
    }
   ],
   "source": [
    "recommend('Naruto')"
   ]
  },
  {
   "cell_type": "code",
   "execution_count": 89,
   "metadata": {},
   "outputs": [
    {
     "name": "stdout",
     "output_type": "stream",
     "text": [
      "Bleach: Sennen Kessen-hen\n",
      "Bleach Movie 3: Fade to Black - Kimi no Na wo Yobu\n",
      "Bleach Movie 4: Jigoku-hen\n",
      "Bleach Movie 1: Memories of Nobody\n",
      "Tokyo Mew Mew New ♡\n",
      "Bleach: The Sealed Sword Frenzy\n",
      "Yume-iro Pâtissière SP Professional\n",
      "Tokyo Mew Mew\n",
      "Ichigo Mashimaro Encore\n",
      "Tokyo Mew Mew New ♡ 2nd Season\n",
      "Aikatsu! Movie\n",
      "Umi no Triton\n",
      "Wu Ying Sanqian Dao\n",
      "Umineko no Naku Koro ni\n",
      "Yuan Long\n",
      "Bleach Movie 2: The DiamondDust Rebellion - Mou Hitotsu no Hyourinmaru\n",
      "Yume-iro Pâtissière\n",
      "Glass no Usagi\n",
      "Ling Yu\n",
      "Yozakura-san Chi no Daisakusen\n",
      "Gokiburi-chan\n",
      "Barbapapa Sekai wo Mawaru\n",
      "Doubutsu Mura no Daisodou\n",
      "Jue Ji\n",
      "Crayon Shin-chan Movie 23: Ora no Hikkoshi Monogatari - Saboten Daisuugeki\n",
      "Yadamon\n",
      "Da Yu Hai Tang (Movie)\n",
      "Bai Lian Cheng Shen\n",
      "Maryuu Senki\n"
     ]
    }
   ],
   "source": [
    "recommend('Bleach')\n"
   ]
  },
  {
   "cell_type": "markdown",
   "metadata": {},
   "source": []
  },
  {
   "cell_type": "code",
   "execution_count": 96,
   "metadata": {},
   "outputs": [],
   "source": [
    "import pickle\n",
    "\n",
    "pickle.dump(anime_clean, open('models/anime_list.pkl', 'wb'))\n",
    "pickle.dump(similarity, open('models/similarity.pkl', 'wb'))"
   ]
  },
  {
   "cell_type": "code",
   "execution_count": 1,
   "metadata": {},
   "outputs": [
    {
     "name": "stdout",
     "output_type": "stream",
     "text": [
      "File split successfully!\n"
     ]
    }
   ],
   "source": [
    "# Function to split the file into parts\n",
    "def split_file(file_path, chunk_size=100 * 1024 * 1024):  # Split into 500MB chunks\n",
    "    with open(file_path, 'rb') as f:\n",
    "        i = 0\n",
    "        while True:\n",
    "            chunk = f.read(chunk_size)\n",
    "            if not chunk:\n",
    "                break\n",
    "            with open(f'similarity_part_{i}.pkl', 'wb') as chunk_file:\n",
    "                chunk_file.write(chunk)\n",
    "            i += 1\n",
    "\n",
    "# File path of original large similarity.pkl\n",
    "file_path = 'models/similarity.pkl'\n",
    "split_file(file_path)\n",
    "\n",
    "print(\"File split successfully!\")"
   ]
  },
  {
   "cell_type": "markdown",
   "metadata": {},
   "source": []
  }
 ],
 "metadata": {
  "kernelspec": {
   "display_name": "env",
   "language": "python",
   "name": "python3"
  },
  "language_info": {
   "codemirror_mode": {
    "name": "ipython",
    "version": 3
   },
   "file_extension": ".py",
   "mimetype": "text/x-python",
   "name": "python",
   "nbconvert_exporter": "python",
   "pygments_lexer": "ipython3",
   "version": "3.9.13"
  }
 },
 "nbformat": 4,
 "nbformat_minor": 2
}
